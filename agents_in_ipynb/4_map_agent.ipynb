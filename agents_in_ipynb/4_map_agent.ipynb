{
 "cells": [
  {
   "cell_type": "code",
   "execution_count": null,
   "id": "0",
   "metadata": {},
   "outputs": [],
   "source": [
    "from langchain_ollama import ChatOllama\n",
    "from langchain.schema.runnable import RunnableLambda\n",
    "from langchain.tools import DuckDuckGoSearchRun\n",
    "from langchain.agents import AgentExecutor, create_openai_functions_agent, create_tool_calling_agent, create_react_agent, Agent\n",
    "from langchain_core.prompts import ChatPromptTemplate, MessagesPlaceholder\n",
    "\n",
    "import folium\n",
    "from geopy.geocoders import Nominatim\n",
    "import asyncio\n",
    "import os"
   ]
  },
  {
   "cell_type": "code",
   "execution_count": null,
   "id": "1",
   "metadata": {},
   "outputs": [],
   "source": [
    "search = DuckDuckGoSearchRun()\n",
    "llm = ChatOllama(model=\"qwen2.5:7b\")\n",
    "geolocator = Nominatim(user_agent=\"travel_bot\")"
   ]
  },
  {
   "cell_type": "code",
   "execution_count": null,
   "id": "2",
   "metadata": {},
   "outputs": [],
   "source": [
    "async def _generate_map(location: str) -> str:\n",
    "    # query = f\"Name the Top 15 must-visit places in and near to {location}.\"\n",
    "    # query = f\"Top 15 tourist places in {location}\"\n",
    "    # results = search.run(query)\n",
    "    # print(results)\n",
    "    # prompt = f\"Extract 15 major tourist attraction places to visit in and near {location}.Only return the place name, with it's coordinates, one per line. Return format : Place name - latitude, longitude\"\n",
    "    prompt = f\"Extract atleast 15 tourist places to visit in and near {location}. Only return the place name , one per line. Return format : Place name . Jus the format nothing more , like numbers  \"\n",
    "    \n",
    "    ai_response = llm.invoke(prompt)\n",
    "    print(ai_response.content)\n",
    "    places = ai_response.content.strip().split(\"\\n\")\n",
    "    # result = await agent_executor.ainvoke({\"location\": location})\n",
    "    # print(f\"Result : {result}\")\n",
    "\n",
    "    # places = result[\"output\"].strip().split(\"\\n\")\n",
    "\n",
    "    coordinates = []\n",
    "    for place in places:\n",
    "        # print(f\"==={place}===\")\n",
    "        try:\n",
    "            # full_query = f\"{place}, {location}\"\n",
    "            full_query = f\"{place}\"\n",
    "            geo = geolocator.geocode(full_query)\n",
    "            if geo:\n",
    "                coordinates.append((place, geo.latitude, geo.longitude))\n",
    "                print(f\"{place}; lat: {geo.latitude}; long: {geo.longitude}\")\n",
    "            else :\n",
    "                print(f\"No coordinates found for {place}\")\n",
    "            # name_part , coords_part = place.split(\" - \")\n",
    "            # lat_str, lon_str = coords_part.split(\", \")\n",
    "            # print(f\"place name: {name_part}, latitude : {lat_str} and {float(lat_str)}, longitude: {lon_str} and {float(lon_str)}\")\n",
    "            # coordinates.append((name_part.strip(), float(lat_str), float(lon_str)))\n",
    "        except:\n",
    "            print(f\"No coordinates found for {place}\")\n",
    "            continue\n",
    "\n",
    "    if not coordinates:\n",
    "        return \"Couldn't geocode any places for this location. Try a more specific location.\"\n",
    "    \n",
    "    center_lat, center_lng = coordinates[0][1], coordinates[0][2]\n",
    "    fmap = folium.Map(location=[center_lat, center_lng], zoom_start=13)\n",
    "\n",
    "    for name, lat, lng in coordinates:\n",
    "        folium.Marker(location=[lat, lng], popup=name, tooltip=name, icon=folium.Icon(color = \"red\")).add_to(fmap)\n",
    "\n",
    "    map_path = f\"maps/{location.replace(' ', '_')}_travel_map.html\"\n",
    "    os.makedirs(\"maps\", exist_ok=True)\n",
    "    fmap.save(map_path)\n",
    "\n",
    "    return f\"Here's the interactive travel map for {location}!\\n Open this file: '{map_path}'\""
   ]
  },
  {
   "cell_type": "code",
   "execution_count": null,
   "id": "3",
   "metadata": {},
   "outputs": [],
   "source": [
    "map_agent = RunnableLambda(func=_generate_map)"
   ]
  },
  {
   "cell_type": "code",
   "execution_count": null,
   "id": "4",
   "metadata": {},
   "outputs": [],
   "source": [
    "result = await map_agent.ainvoke(\"Leh\")\n",
    "\n",
    "print(result)"
   ]
  },
  {
   "cell_type": "code",
   "execution_count": null,
   "id": "5",
   "metadata": {},
   "outputs": [],
   "source": []
  }
 ],
 "metadata": {
  "kernelspec": {
   "display_name": "venv",
   "language": "python",
   "name": "python3"
  },
  "language_info": {
   "codemirror_mode": {
    "name": "ipython",
    "version": 3
   },
   "file_extension": ".py",
   "mimetype": "text/x-python",
   "name": "python",
   "nbconvert_exporter": "python",
   "pygments_lexer": "ipython3",
   "version": "3.12.9"
  }
 },
 "nbformat": 4,
 "nbformat_minor": 5
}
