{
 "cells": [
  {
   "cell_type": "code",
   "execution_count": null,
   "id": "0",
   "metadata": {},
   "outputs": [],
   "source": [
    "from langchain.schema.runnable import RunnableParallel\n",
    "from agents.place_info_agent import place_info_agent\n",
    "from agents.accomodation_agent import accomodation_agent\n",
    "from agents.transport_agent import transport_agent\n",
    "from agents.map_agent import map_agent\n",
    "from agents.iterenary_agent import iterenary_agent\n"
   ]
  },
  {
   "cell_type": "code",
   "execution_count": null,
   "id": "1",
   "metadata": {},
   "outputs": [],
   "source": [
    "async def handle_location_query(location):\n",
    "    data = {\n",
    "        \"place_info\": await place_info_agent.ainvoke(location),\n",
    "        \"accommodation\": await accomodation_agent.ainvoke(location),\n",
    "        \"transport\": await transport_agent.ainvoke(location),\n",
    "        \"map\": await map_agent.ainvoke(location),\n",
    "    }\n",
    "\n",
    "    iterenary = await iterenary_agent.ainvoke(data)\n",
    "    final_response = f\"{data['place_info']} \\n\\n {data['accommodation']}\\n\\n{data['transport']}\\n\\n{data['map']}\\n\\n📅 Itinerary:\\n{iterenary}\"\n",
    "    \n",
    "    return final_response"
   ]
  },
  {
   "cell_type": "code",
   "execution_count": null,
   "id": "2",
   "metadata": {},
   "outputs": [],
   "source": []
  }
 ],
 "metadata": {
  "kernelspec": {
   "display_name": "venv",
   "language": "python",
   "name": "python3"
  },
  "language_info": {
   "codemirror_mode": {
    "name": "ipython",
    "version": 3
   },
   "file_extension": ".py",
   "mimetype": "text/x-python",
   "name": "python",
   "nbconvert_exporter": "python",
   "pygments_lexer": "ipython3",
   "version": "3.12.9"
  }
 },
 "nbformat": 4,
 "nbformat_minor": 5
}
